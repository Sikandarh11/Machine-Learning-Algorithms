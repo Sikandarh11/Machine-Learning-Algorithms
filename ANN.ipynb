{
  "nbformat": 4,
  "nbformat_minor": 0,
  "metadata": {
    "colab": {
      "provenance": [],
      "authorship_tag": "ABX9TyMwRYYb7odkfD9puGnxdpuT",
      "include_colab_link": true
    },
    "kernelspec": {
      "name": "python3",
      "display_name": "Python 3"
    },
    "language_info": {
      "name": "python"
    }
  },
  "cells": [
    {
      "cell_type": "markdown",
      "metadata": {
        "id": "view-in-github",
        "colab_type": "text"
      },
      "source": [
        "<a href=\"https://colab.research.google.com/github/Sikandarh11/Practice-Machine-Learning-Algorithms/blob/main/ANN.ipynb\" target=\"_parent\"><img src=\"https://colab.research.google.com/assets/colab-badge.svg\" alt=\"Open In Colab\"/></a>"
      ]
    },
    {
      "cell_type": "code",
      "execution_count": 8,
      "metadata": {
        "id": "tpc7kUCLIs4p"
      },
      "outputs": [],
      "source": [
        "import tensorflow\n",
        "from tensorflow import keras\n",
        "from tensorflow.keras import Sequential\n",
        "from tensorflow.keras.layers import Dense,Flatten\n",
        "from tensorflow.keras.layers import ReLU\n",
        "from sklearn.datasets import load_iris\n",
        "from sklearn.model_selection import train_test_split"
      ]
    },
    {
      "cell_type": "code",
      "source": [
        "iris = load_iris()\n",
        "X = iris.data\n",
        "y = iris.target\n",
        "X_train,X_test,y_train,y_test= train_test_split(X,y, random_state=1, test_size = 0.2)"
      ],
      "metadata": {
        "id": "w8XloE1IIwkH"
      },
      "execution_count": 17,
      "outputs": []
    },
    {
      "cell_type": "code",
      "source": [
        "y_test.shape, X_test.shape"
      ],
      "metadata": {
        "colab": {
          "base_uri": "https://localhost:8080/"
        },
        "id": "gMSHofqMI2pO",
        "outputId": "7b68187a-5fc3-48fe-e072-a0ffb9f4461e"
      },
      "execution_count": 40,
      "outputs": [
        {
          "output_type": "execute_result",
          "data": {
            "text/plain": [
              "((30,), (30, 4))"
            ]
          },
          "metadata": {},
          "execution_count": 40
        }
      ]
    },
    {
      "cell_type": "code",
      "source": [
        "from sklearn.preprocessing import StandardScaler\n",
        "scaler = StandardScaler()\n",
        "X_train_scaled = scaler.fit_transform(X_train)\n",
        "X_test_scaled = scaler.transform(X_test)"
      ],
      "metadata": {
        "id": "nDyMNxSFJyor"
      },
      "execution_count": 20,
      "outputs": []
    },
    {
      "cell_type": "code",
      "source": [
        "model = Sequential()\n",
        "model.add(Flatten(input_shape  = (4,)))\n",
        "model.add(Dense(128, activation = \"relu\"))\n",
        "model.add(Dense(64, activation = \"relu\"))\n",
        "model.add(Dense(32, activation = \"relu\"))\n",
        "model.add(Dense(4, activation = \"softmax\"))"
      ],
      "metadata": {
        "id": "mbGuMQSBKBQm"
      },
      "execution_count": 33,
      "outputs": []
    },
    {
      "cell_type": "code",
      "source": [
        "model.summary()"
      ],
      "metadata": {
        "colab": {
          "base_uri": "https://localhost:8080/"
        },
        "id": "hbnFWBhmLaBa",
        "outputId": "e590fddb-8ff7-4eac-d47a-1f942db24a1a"
      },
      "execution_count": 34,
      "outputs": [
        {
          "output_type": "stream",
          "name": "stdout",
          "text": [
            "Model: \"sequential_3\"\n",
            "_________________________________________________________________\n",
            " Layer (type)                Output Shape              Param #   \n",
            "=================================================================\n",
            " flatten_2 (Flatten)         (None, 4)                 0         \n",
            "                                                                 \n",
            " dense_7 (Dense)             (None, 128)               640       \n",
            "                                                                 \n",
            " dense_8 (Dense)             (None, 64)                8256      \n",
            "                                                                 \n",
            " dense_9 (Dense)             (None, 32)                2080      \n",
            "                                                                 \n",
            " dense_10 (Dense)            (None, 4)                 132       \n",
            "                                                                 \n",
            "=================================================================\n",
            "Total params: 11108 (43.39 KB)\n",
            "Trainable params: 11108 (43.39 KB)\n",
            "Non-trainable params: 0 (0.00 Byte)\n",
            "_________________________________________________________________\n"
          ]
        }
      ]
    },
    {
      "cell_type": "code",
      "source": [
        "model.compile(loss='sparse_categorical_crossentropy',optimizer='Adam',metrics=['accuracy'])"
      ],
      "metadata": {
        "id": "FfkAEWP9LDdZ"
      },
      "execution_count": 35,
      "outputs": []
    },
    {
      "cell_type": "code",
      "source": [
        "model.fit(X_train_scaled, y_train, epochs = 50, validation_split = 0.2)"
      ],
      "metadata": {
        "colab": {
          "base_uri": "https://localhost:8080/"
        },
        "id": "Smr7LKvLLb8S",
        "outputId": "ad68f79b-dc96-42dc-f2f2-74888999db41"
      },
      "execution_count": 36,
      "outputs": [
        {
          "output_type": "stream",
          "name": "stdout",
          "text": [
            "Epoch 1/50\n",
            "3/3 [==============================] - 1s 87ms/step - loss: 1.4666 - accuracy: 0.1875 - val_loss: 1.3405 - val_accuracy: 0.2500\n",
            "Epoch 2/50\n",
            "3/3 [==============================] - 0s 24ms/step - loss: 1.3287 - accuracy: 0.3333 - val_loss: 1.2617 - val_accuracy: 0.3750\n",
            "Epoch 3/50\n",
            "3/3 [==============================] - 0s 18ms/step - loss: 1.2267 - accuracy: 0.4792 - val_loss: 1.2032 - val_accuracy: 0.3750\n",
            "Epoch 4/50\n",
            "3/3 [==============================] - 0s 25ms/step - loss: 1.1496 - accuracy: 0.4792 - val_loss: 1.1507 - val_accuracy: 0.3750\n",
            "Epoch 5/50\n",
            "3/3 [==============================] - 0s 17ms/step - loss: 1.0771 - accuracy: 0.4896 - val_loss: 1.0959 - val_accuracy: 0.3750\n",
            "Epoch 6/50\n",
            "3/3 [==============================] - 0s 15ms/step - loss: 1.0038 - accuracy: 0.5000 - val_loss: 1.0396 - val_accuracy: 0.3750\n",
            "Epoch 7/50\n",
            "3/3 [==============================] - 0s 14ms/step - loss: 0.9327 - accuracy: 0.5000 - val_loss: 0.9871 - val_accuracy: 0.3750\n",
            "Epoch 8/50\n",
            "3/3 [==============================] - 0s 13ms/step - loss: 0.8670 - accuracy: 0.5000 - val_loss: 0.9411 - val_accuracy: 0.3750\n",
            "Epoch 9/50\n",
            "3/3 [==============================] - 0s 13ms/step - loss: 0.8101 - accuracy: 0.5000 - val_loss: 0.8977 - val_accuracy: 0.3750\n",
            "Epoch 10/50\n",
            "3/3 [==============================] - 0s 13ms/step - loss: 0.7595 - accuracy: 0.5000 - val_loss: 0.8546 - val_accuracy: 0.3750\n",
            "Epoch 11/50\n",
            "3/3 [==============================] - 0s 13ms/step - loss: 0.7147 - accuracy: 0.5000 - val_loss: 0.8145 - val_accuracy: 0.3750\n",
            "Epoch 12/50\n",
            "3/3 [==============================] - 0s 14ms/step - loss: 0.6730 - accuracy: 0.5104 - val_loss: 0.7683 - val_accuracy: 0.4167\n",
            "Epoch 13/50\n",
            "3/3 [==============================] - 0s 14ms/step - loss: 0.6331 - accuracy: 0.5521 - val_loss: 0.7205 - val_accuracy: 0.6667\n",
            "Epoch 14/50\n",
            "3/3 [==============================] - 0s 13ms/step - loss: 0.5914 - accuracy: 0.8125 - val_loss: 0.6690 - val_accuracy: 0.7917\n",
            "Epoch 15/50\n",
            "3/3 [==============================] - 0s 14ms/step - loss: 0.5521 - accuracy: 0.8542 - val_loss: 0.6199 - val_accuracy: 0.7917\n",
            "Epoch 16/50\n",
            "3/3 [==============================] - 0s 17ms/step - loss: 0.5116 - accuracy: 0.8542 - val_loss: 0.5756 - val_accuracy: 0.8333\n",
            "Epoch 17/50\n",
            "3/3 [==============================] - 0s 30ms/step - loss: 0.4704 - accuracy: 0.8542 - val_loss: 0.5363 - val_accuracy: 0.8333\n",
            "Epoch 18/50\n",
            "3/3 [==============================] - 0s 19ms/step - loss: 0.4272 - accuracy: 0.8542 - val_loss: 0.4939 - val_accuracy: 0.8333\n",
            "Epoch 19/50\n",
            "3/3 [==============================] - 0s 24ms/step - loss: 0.3864 - accuracy: 0.8854 - val_loss: 0.4560 - val_accuracy: 0.8333\n",
            "Epoch 20/50\n",
            "3/3 [==============================] - 0s 16ms/step - loss: 0.3466 - accuracy: 0.8854 - val_loss: 0.4260 - val_accuracy: 0.8333\n",
            "Epoch 21/50\n",
            "3/3 [==============================] - 0s 18ms/step - loss: 0.3093 - accuracy: 0.8958 - val_loss: 0.3900 - val_accuracy: 0.8333\n",
            "Epoch 22/50\n",
            "3/3 [==============================] - 0s 27ms/step - loss: 0.2762 - accuracy: 0.9167 - val_loss: 0.3617 - val_accuracy: 0.8333\n",
            "Epoch 23/50\n",
            "3/3 [==============================] - 0s 28ms/step - loss: 0.2490 - accuracy: 0.9167 - val_loss: 0.3391 - val_accuracy: 0.8750\n",
            "Epoch 24/50\n",
            "3/3 [==============================] - 0s 21ms/step - loss: 0.2269 - accuracy: 0.9167 - val_loss: 0.3194 - val_accuracy: 0.8750\n",
            "Epoch 25/50\n",
            "3/3 [==============================] - 0s 25ms/step - loss: 0.2079 - accuracy: 0.9167 - val_loss: 0.3042 - val_accuracy: 0.8750\n",
            "Epoch 26/50\n",
            "3/3 [==============================] - 0s 29ms/step - loss: 0.1912 - accuracy: 0.9271 - val_loss: 0.2889 - val_accuracy: 0.8750\n",
            "Epoch 27/50\n",
            "3/3 [==============================] - 0s 31ms/step - loss: 0.1788 - accuracy: 0.9479 - val_loss: 0.2739 - val_accuracy: 0.9167\n",
            "Epoch 28/50\n",
            "3/3 [==============================] - 0s 24ms/step - loss: 0.1653 - accuracy: 0.9583 - val_loss: 0.2570 - val_accuracy: 0.9167\n",
            "Epoch 29/50\n",
            "3/3 [==============================] - 0s 26ms/step - loss: 0.1551 - accuracy: 0.9688 - val_loss: 0.2427 - val_accuracy: 0.9583\n",
            "Epoch 30/50\n",
            "3/3 [==============================] - 0s 17ms/step - loss: 0.1442 - accuracy: 0.9688 - val_loss: 0.2326 - val_accuracy: 0.9583\n",
            "Epoch 31/50\n",
            "3/3 [==============================] - 0s 18ms/step - loss: 0.1365 - accuracy: 0.9688 - val_loss: 0.2224 - val_accuracy: 0.9583\n",
            "Epoch 32/50\n",
            "3/3 [==============================] - 0s 25ms/step - loss: 0.1255 - accuracy: 0.9688 - val_loss: 0.2160 - val_accuracy: 0.9583\n",
            "Epoch 33/50\n",
            "3/3 [==============================] - 0s 11ms/step - loss: 0.1188 - accuracy: 0.9688 - val_loss: 0.2108 - val_accuracy: 0.9583\n",
            "Epoch 34/50\n",
            "3/3 [==============================] - 0s 12ms/step - loss: 0.1119 - accuracy: 0.9688 - val_loss: 0.2033 - val_accuracy: 1.0000\n",
            "Epoch 35/50\n",
            "3/3 [==============================] - 0s 11ms/step - loss: 0.1075 - accuracy: 0.9688 - val_loss: 0.1971 - val_accuracy: 1.0000\n",
            "Epoch 36/50\n",
            "3/3 [==============================] - 0s 10ms/step - loss: 0.1010 - accuracy: 0.9688 - val_loss: 0.1908 - val_accuracy: 0.9583\n",
            "Epoch 37/50\n",
            "3/3 [==============================] - 0s 10ms/step - loss: 0.0952 - accuracy: 0.9688 - val_loss: 0.1872 - val_accuracy: 0.9583\n",
            "Epoch 38/50\n",
            "3/3 [==============================] - 0s 11ms/step - loss: 0.0900 - accuracy: 0.9688 - val_loss: 0.1840 - val_accuracy: 0.9583\n",
            "Epoch 39/50\n",
            "3/3 [==============================] - 0s 11ms/step - loss: 0.0849 - accuracy: 0.9688 - val_loss: 0.1786 - val_accuracy: 0.9583\n",
            "Epoch 40/50\n",
            "3/3 [==============================] - 0s 11ms/step - loss: 0.0807 - accuracy: 0.9792 - val_loss: 0.1743 - val_accuracy: 0.9583\n",
            "Epoch 41/50\n",
            "3/3 [==============================] - 0s 11ms/step - loss: 0.0762 - accuracy: 0.9792 - val_loss: 0.1706 - val_accuracy: 0.9583\n",
            "Epoch 42/50\n",
            "3/3 [==============================] - 0s 12ms/step - loss: 0.0723 - accuracy: 0.9792 - val_loss: 0.1689 - val_accuracy: 0.9583\n",
            "Epoch 43/50\n",
            "3/3 [==============================] - 0s 11ms/step - loss: 0.0687 - accuracy: 0.9792 - val_loss: 0.1687 - val_accuracy: 0.9583\n",
            "Epoch 44/50\n",
            "3/3 [==============================] - 0s 14ms/step - loss: 0.0659 - accuracy: 0.9792 - val_loss: 0.1655 - val_accuracy: 0.9583\n",
            "Epoch 45/50\n",
            "3/3 [==============================] - 0s 17ms/step - loss: 0.0631 - accuracy: 0.9792 - val_loss: 0.1661 - val_accuracy: 0.9167\n",
            "Epoch 46/50\n",
            "3/3 [==============================] - 0s 13ms/step - loss: 0.0602 - accuracy: 0.9792 - val_loss: 0.1662 - val_accuracy: 0.8750\n",
            "Epoch 47/50\n",
            "3/3 [==============================] - 0s 13ms/step - loss: 0.0569 - accuracy: 0.9792 - val_loss: 0.1599 - val_accuracy: 0.9583\n",
            "Epoch 48/50\n",
            "3/3 [==============================] - 0s 14ms/step - loss: 0.0539 - accuracy: 0.9792 - val_loss: 0.1568 - val_accuracy: 0.9583\n",
            "Epoch 49/50\n",
            "3/3 [==============================] - 0s 13ms/step - loss: 0.0538 - accuracy: 0.9792 - val_loss: 0.1564 - val_accuracy: 0.9167\n",
            "Epoch 50/50\n",
            "3/3 [==============================] - 0s 13ms/step - loss: 0.0508 - accuracy: 0.9792 - val_loss: 0.1654 - val_accuracy: 0.8750\n"
          ]
        },
        {
          "output_type": "execute_result",
          "data": {
            "text/plain": [
              "<keras.src.callbacks.History at 0x7b37bf62c760>"
            ]
          },
          "metadata": {},
          "execution_count": 36
        }
      ]
    },
    {
      "cell_type": "code",
      "source": [
        "y_pred = model.predict(X_test)\n",
        "y_pred = y_pred.argmax(axis=1)"
      ],
      "metadata": {
        "colab": {
          "base_uri": "https://localhost:8080/"
        },
        "id": "He23Q0rSLkXD",
        "outputId": "c59aa21e-9c18-4aab-b07d-889c61bc1f4d"
      },
      "execution_count": 46,
      "outputs": [
        {
          "output_type": "stream",
          "name": "stdout",
          "text": [
            "1/1 [==============================] - 0s 14ms/step\n"
          ]
        }
      ]
    },
    {
      "cell_type": "code",
      "source": [
        "from sklearn.metrics import accuracy_score\n",
        "accuracy_score(y_test, y_pred)"
      ],
      "metadata": {
        "colab": {
          "base_uri": "https://localhost:8080/"
        },
        "id": "9WSqDydVNqIF",
        "outputId": "c5db3d16-10a3-4b47-f568-76210ed30cac"
      },
      "execution_count": 47,
      "outputs": [
        {
          "output_type": "execute_result",
          "data": {
            "text/plain": [
              "0.2"
            ]
          },
          "metadata": {},
          "execution_count": 47
        }
      ]
    },
    {
      "cell_type": "code",
      "source": [],
      "metadata": {
        "id": "EzCVD9lBN29Q"
      },
      "execution_count": null,
      "outputs": []
    }
  ]
}