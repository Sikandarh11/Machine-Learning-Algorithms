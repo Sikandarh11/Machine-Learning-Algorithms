{
  "nbformat": 4,
  "nbformat_minor": 0,
  "metadata": {
    "colab": {
      "provenance": [],
      "gpuType": "V28",
      "authorship_tag": "ABX9TyOz1dFJYuEnxc0fj3KLcUeF",
      "include_colab_link": true
    },
    "kernelspec": {
      "name": "python3",
      "display_name": "Python 3"
    },
    "language_info": {
      "name": "python"
    },
    "accelerator": "TPU"
  },
  "cells": [
    {
      "cell_type": "markdown",
      "metadata": {
        "id": "view-in-github",
        "colab_type": "text"
      },
      "source": [
        "<a href=\"https://colab.research.google.com/github/Sikandarh11/Practice-Machine-Learning-Algorithms/blob/main/Practice_CNN.ipynb\" target=\"_parent\"><img src=\"https://colab.research.google.com/assets/colab-badge.svg\" alt=\"Open In Colab\"/></a>"
      ]
    },
    {
      "cell_type": "code",
      "execution_count": 37,
      "metadata": {
        "id": "JEGegPaB0q7M"
      },
      "outputs": [],
      "source": [
        "import tensorflow\n",
        "from tensorflow import keras\n",
        "from tensorflow.keras import Sequential\n",
        "from tensorflow.keras.layers import Dense,Flatten\n",
        "from tensorflow.keras.layers import LeakyReLU"
      ]
    },
    {
      "cell_type": "code",
      "source": [
        "(X_train,y_train),(X_test,y_test) = keras.datasets.cifar10.load_data()"
      ],
      "metadata": {
        "colab": {
          "base_uri": "https://localhost:8080/"
        },
        "id": "oBxn-Ca00r8f",
        "outputId": "b65e766a-e0c8-427c-beae-734d55264280"
      },
      "execution_count": 2,
      "outputs": [
        {
          "output_type": "stream",
          "name": "stdout",
          "text": [
            "Downloading data from https://www.cs.toronto.edu/~kriz/cifar-10-python.tar.gz\n",
            "170498071/170498071 [==============================] - 2s 0us/step\n"
          ]
        }
      ]
    },
    {
      "cell_type": "code",
      "source": [
        "X_train.shape"
      ],
      "metadata": {
        "colab": {
          "base_uri": "https://localhost:8080/"
        },
        "id": "rurXlwLY1EP5",
        "outputId": "45311b19-0c37-4ace-d8a8-44148589e9e5"
      },
      "execution_count": 3,
      "outputs": [
        {
          "output_type": "execute_result",
          "data": {
            "text/plain": [
              "(50000, 32, 32, 3)"
            ]
          },
          "metadata": {},
          "execution_count": 3
        }
      ]
    },
    {
      "cell_type": "code",
      "source": [
        "y_train.max()"
      ],
      "metadata": {
        "colab": {
          "base_uri": "https://localhost:8080/"
        },
        "id": "-pLDBpI_1m1T",
        "outputId": "bfe69f4f-ad30-42b3-b67f-6c72256f4d18"
      },
      "execution_count": 4,
      "outputs": [
        {
          "output_type": "execute_result",
          "data": {
            "text/plain": [
              "9"
            ]
          },
          "metadata": {},
          "execution_count": 4
        }
      ]
    },
    {
      "cell_type": "code",
      "source": [
        "import matplotlib.pyplot as plt\n",
        "plt.imshow(X_train[0])"
      ],
      "metadata": {
        "colab": {
          "base_uri": "https://localhost:8080/",
          "height": 448
        },
        "id": "VDTahABJ15sv",
        "outputId": "4b6eea71-f1fb-4f6a-abfb-d55d5691188f"
      },
      "execution_count": 5,
      "outputs": [
        {
          "output_type": "execute_result",
          "data": {
            "text/plain": [
              "<matplotlib.image.AxesImage at 0x7e9edd4962f0>"
            ]
          },
          "metadata": {},
          "execution_count": 5
        },
        {
          "output_type": "display_data",
          "data": {
            "text/plain": [
              "<Figure size 640x480 with 1 Axes>"
            ],
            "image/png": "[encoded data removed]"
          },
          "metadata": {}
        }
      ]
    },
    {
      "cell_type": "code",
      "source": [
        "X_train = X_train/9\n",
        "X_test = X_test/9"
      ],
      "metadata": {
        "id": "HQKnmCnG2QDO"
      },
      "execution_count": 6,
      "outputs": []
    },
    {
      "cell_type": "code",
      "source": [
        "X_train[0]"
      ],
      "metadata": {
        "colab": {
          "base_uri": "https://localhost:8080/"
        },
        "id": "b9Qo8jY_2urr",
        "outputId": "b01584ea-67ba-44a0-d80d-59d38059cab4"
      },
      "execution_count": 7,
      "outputs": [
        {
          "output_type": "execute_result",
          "data": {
            "text/plain": [
              "array([[[ 6.55555556,  6.88888889,  7.        ],\n",
              "        [ 4.77777778,  5.11111111,  5.        ],\n",
              "        [ 5.55555556,  5.33333333,  4.77777778],\n",
              "        ...,\n",
              "        [17.55555556, 14.66666667, 12.        ],\n",
              "        [16.88888889, 13.88888889, 11.33333333],\n",
              "        [16.44444444, 13.77777778, 11.44444444]],\n",
              "\n",
              "       [[ 1.77777778,  2.22222222,  2.22222222],\n",
              "        [ 0.        ,  0.        ,  0.        ],\n",
              "        [ 2.        ,  0.88888889,  0.        ],\n",
              "        ...,\n",
              "        [13.66666667,  9.77777778,  6.11111111],\n",
              "        [13.22222222,  9.22222222,  5.55555556],\n",
              "        [13.55555556,  9.66666667,  6.33333333]],\n",
              "\n",
              "       [[ 2.77777778,  2.66666667,  2.33333333],\n",
              "        [ 1.77777778,  0.77777778,  0.        ],\n",
              "        [ 5.44444444,  3.        ,  0.88888889],\n",
              "        ...,\n",
              "        [13.11111111,  9.33333333,  5.55555556],\n",
              "        [13.33333333,  9.33333333,  5.55555556],\n",
              "        [12.11111111,  8.11111111,  4.66666667]],\n",
              "\n",
              "       ...,\n",
              "\n",
              "       [[23.11111111, 18.88888889, 10.66666667],\n",
              "        [22.33333333, 17.        ,  3.77777778],\n",
              "        [22.        , 17.88888889,  2.88888889],\n",
              "        ...,\n",
              "        [17.77777778, 14.77777778,  7.77777778],\n",
              "        [ 6.22222222,  3.44444444,  0.77777778],\n",
              "        [ 5.88888889,  3.77777778,  2.22222222]],\n",
              "\n",
              "       [[20.        , 15.44444444, 10.66666667],\n",
              "        [19.22222222, 13.66666667,  4.66666667],\n",
              "        [20.66666667, 16.        ,  3.33333333],\n",
              "        ...,\n",
              "        [20.44444444, 16.44444444, 10.44444444],\n",
              "        [10.77777778,  6.88888889,  3.77777778],\n",
              "        [ 9.22222222,  5.88888889,  3.77777778]],\n",
              "\n",
              "       [[19.66666667, 16.        , 12.88888889],\n",
              "        [18.66666667, 14.33333333, 10.44444444],\n",
              "        [19.88888889, 15.77777778,  9.66666667],\n",
              "        ...,\n",
              "        [24.        , 20.44444444, 15.55555556],\n",
              "        [16.77777778, 13.11111111,  9.33333333],\n",
              "        [13.66666667, 10.22222222,  8.        ]]])"
            ]
          },
          "metadata": {},
          "execution_count": 7
        }
      ]
    },
    {
      "cell_type": "code",
      "source": [
        "from tensorflow.keras.models import Sequential\n",
        "from tensorflow.keras.layers import Conv2D, MaxPooling2D, Flatten, Dense, LeakyReLU\n",
        "\n",
        "model = Sequential()\n",
        "\n",
        "# Convolutional layers\n",
        "model.add(Conv2D(32, (3, 3), padding='same', input_shape=(32, 32, 3)))\n",
        "model.add(LeakyReLU(alpha=0.01))\n",
        "model.add(MaxPooling2D(pool_size=(2, 2)))\n",
        "\n",
        "model.add(Conv2D(64, (3, 3), padding='same'))\n",
        "model.add(LeakyReLU(alpha=0.01))\n",
        "model.add(MaxPooling2D(pool_size=(2, 2)))\n",
        "\n",
        "model.add(Conv2D(128, (3, 3), padding='same'))\n",
        "model.add(LeakyReLU(alpha=0.01))\n",
        "model.add(MaxPooling2D(pool_size=(2, 2)))\n",
        "\n",
        "# Fully connected layers\n",
        "model.add(Flatten())\n",
        "model.add(Dense(256))\n",
        "model.add(LeakyReLU(alpha=0.01))\n",
        "model.add(Dense(128))\n",
        "model.add(LeakyReLU(alpha=0.01))\n",
        "model.add(Dense(64))\n",
        "model.add(LeakyReLU(alpha=0.01))\n",
        "model.add(Dense(32))\n",
        "model.add(LeakyReLU(alpha=0.01))\n",
        "model.add(Dense(10, activation='softmax'))\n"
      ],
      "metadata": {
        "id": "Nq5HW33i20OW"
      },
      "execution_count": 38,
      "outputs": []
    },
    {
      "cell_type": "code",
      "source": [
        "model.summary()"
      ],
      "metadata": {
        "colab": {
          "base_uri": "https://localhost:8080/"
        },
        "id": "HLl7cREd3IbH",
        "outputId": "5e007977-56fe-48b4-a69a-f22062911dec"
      },
      "execution_count": 39,
      "outputs": [
        {
          "output_type": "stream",
          "name": "stdout",
          "text": [
            "Model: \"sequential_7\"\n",
            "_________________________________________________________________\n",
            " Layer (type)                Output Shape              Param #   \n",
            "=================================================================\n",
            " conv2d (Conv2D)             (None, 32, 32, 32)        896       \n",
            "                                                                 \n",
            " leaky_re_lu_12 (LeakyReLU)  (None, 32, 32, 32)        0         \n",
            "                                                                 \n",
            " max_pooling2d (MaxPooling2  (None, 16, 16, 32)        0         \n",
            " D)                                                              \n",
            "                                                                 \n",
            " conv2d_1 (Conv2D)           (None, 16, 16, 64)        18496     \n",
            "                                                                 \n",
            " leaky_re_lu_13 (LeakyReLU)  (None, 16, 16, 64)        0         \n",
            "                                                                 \n",
            " max_pooling2d_1 (MaxPoolin  (None, 8, 8, 64)          0         \n",
            " g2D)                                                            \n",
            "                                                                 \n",
            " conv2d_2 (Conv2D)           (None, 8, 8, 128)         73856     \n",
            "                                                                 \n",
            " leaky_re_lu_14 (LeakyReLU)  (None, 8, 8, 128)         0         \n",
            "                                                                 \n",
            " max_pooling2d_2 (MaxPoolin  (None, 4, 4, 128)         0         \n",
            " g2D)                                                            \n",
            "                                                                 \n",
            " flatten_7 (Flatten)         (None, 2048)              0         \n",
            "                                                                 \n",
            " dense_26 (Dense)            (None, 256)               524544    \n",
            "                                                                 \n",
            " leaky_re_lu_15 (LeakyReLU)  (None, 256)               0         \n",
            "                                                                 \n",
            " dense_27 (Dense)            (None, 128)               32896     \n",
            "                                                                 \n",
            " leaky_re_lu_16 (LeakyReLU)  (None, 128)               0         \n",
            "                                                                 \n",
            " dense_28 (Dense)            (None, 64)                8256      \n",
            "                                                                 \n",
            " leaky_re_lu_17 (LeakyReLU)  (None, 64)                0         \n",
            "                                                                 \n",
            " dense_29 (Dense)            (None, 32)                2080      \n",
            "                                                                 \n",
            " leaky_re_lu_18 (LeakyReLU)  (None, 32)                0         \n",
            "                                                                 \n",
            " dense_30 (Dense)            (None, 10)                330       \n",
            "                                                                 \n",
            "=================================================================\n",
            "Total params: 661354 (2.52 MB)\n",
            "Trainable params: 661354 (2.52 MB)\n",
            "Non-trainable params: 0 (0.00 Byte)\n",
            "_________________________________________________________________\n"
          ]
        }
      ]
    },
    {
      "cell_type": "code",
      "source": [
        "model.compile(loss='sparse_categorical_crossentropy',optimizer='Adam',metrics=['accuracy'])"
      ],
      "metadata": {
        "id": "3LTqWsJe3e6M"
      },
      "execution_count": 40,
      "outputs": []
    },
    {
      "cell_type": "code",
      "source": [
        "history = model.fit(X_train, y_train, epochs = 50, validation_split = 0.2)"
      ],
      "metadata": {
        "colab": {
          "base_uri": "https://localhost:8080/"
        },
        "id": "beZxGfUg34TW",
        "outputId": "68359b2a-3065-4370-9ca0-ef3561cc205d"
      },
      "execution_count": 41,
      "outputs": [
        {
          "output_type": "stream",
          "name": "stdout",
          "text": [
            "Epoch 1/50\n",
            "1250/1250 [==============================] - 17s 13ms/step - loss: 1.5035 - accuracy: 0.4513 - val_loss: 1.1633 - val_accuracy: 0.5884\n",
            "Epoch 2/50\n",
            "1250/1250 [==============================] - 16s 13ms/step - loss: 1.0424 - accuracy: 0.6353 - val_loss: 0.9911 - val_accuracy: 0.6562\n",
            "Epoch 3/50\n",
            "1250/1250 [==============================] - 15s 12ms/step - loss: 0.8502 - accuracy: 0.7064 - val_loss: 0.8789 - val_accuracy: 0.6975\n",
            "Epoch 4/50\n",
            "1250/1250 [==============================] - 16s 13ms/step - loss: 0.7085 - accuracy: 0.7544 - val_loss: 0.8931 - val_accuracy: 0.7025\n",
            "Epoch 5/50\n",
            "1250/1250 [==============================] - 15s 12ms/step - loss: 0.6025 - accuracy: 0.7920 - val_loss: 0.8479 - val_accuracy: 0.7250\n",
            "Epoch 6/50\n",
            "1250/1250 [==============================] - 16s 12ms/step - loss: 0.4960 - accuracy: 0.8282 - val_loss: 0.9349 - val_accuracy: 0.7017\n",
            "Epoch 7/50\n",
            "1250/1250 [==============================] - 16s 13ms/step - loss: 0.4234 - accuracy: 0.8562 - val_loss: 0.9120 - val_accuracy: 0.7284\n",
            "Epoch 8/50\n",
            "1250/1250 [==============================] - 16s 13ms/step - loss: 0.3491 - accuracy: 0.8800 - val_loss: 1.0122 - val_accuracy: 0.7378\n",
            "Epoch 9/50\n",
            "1250/1250 [==============================] - 16s 12ms/step - loss: 0.3022 - accuracy: 0.8971 - val_loss: 1.1646 - val_accuracy: 0.7067\n",
            "Epoch 10/50\n",
            "1250/1250 [==============================] - 15s 12ms/step - loss: 0.2565 - accuracy: 0.9142 - val_loss: 1.0949 - val_accuracy: 0.7284\n",
            "Epoch 11/50\n",
            "1250/1250 [==============================] - 16s 12ms/step - loss: 0.2175 - accuracy: 0.9266 - val_loss: 1.2624 - val_accuracy: 0.7059\n",
            "Epoch 12/50\n",
            "1250/1250 [==============================] - 15s 12ms/step - loss: 0.1961 - accuracy: 0.9343 - val_loss: 1.2766 - val_accuracy: 0.7232\n",
            "Epoch 13/50\n",
            "1250/1250 [==============================] - 15s 12ms/step - loss: 0.1820 - accuracy: 0.9405 - val_loss: 1.2703 - val_accuracy: 0.7246\n",
            "Epoch 14/50\n",
            "1250/1250 [==============================] - 16s 12ms/step - loss: 0.1602 - accuracy: 0.9478 - val_loss: 1.4380 - val_accuracy: 0.7189\n",
            "Epoch 15/50\n",
            "1250/1250 [==============================] - 16s 12ms/step - loss: 0.1512 - accuracy: 0.9507 - val_loss: 1.4031 - val_accuracy: 0.7180\n",
            "Epoch 16/50\n",
            "1250/1250 [==============================] - 16s 12ms/step - loss: 0.1438 - accuracy: 0.9534 - val_loss: 1.4152 - val_accuracy: 0.7283\n",
            "Epoch 17/50\n",
            "1250/1250 [==============================] - 16s 12ms/step - loss: 0.1256 - accuracy: 0.9604 - val_loss: 1.4279 - val_accuracy: 0.7309\n",
            "Epoch 18/50\n",
            "1250/1250 [==============================] - 16s 12ms/step - loss: 0.1265 - accuracy: 0.9604 - val_loss: 1.3353 - val_accuracy: 0.7304\n",
            "Epoch 19/50\n",
            "1250/1250 [==============================] - 16s 13ms/step - loss: 0.1148 - accuracy: 0.9633 - val_loss: 1.3974 - val_accuracy: 0.7262\n",
            "Epoch 20/50\n",
            "1250/1250 [==============================] - 16s 13ms/step - loss: 0.1138 - accuracy: 0.9645 - val_loss: 1.5488 - val_accuracy: 0.7132\n",
            "Epoch 21/50\n",
            "1250/1250 [==============================] - 16s 12ms/step - loss: 0.1027 - accuracy: 0.9680 - val_loss: 1.5404 - val_accuracy: 0.7288\n",
            "Epoch 22/50\n",
            "1250/1250 [==============================] - 15s 12ms/step - loss: 0.1042 - accuracy: 0.9678 - val_loss: 1.4897 - val_accuracy: 0.7251\n",
            "Epoch 23/50\n",
            "1250/1250 [==============================] - 16s 13ms/step - loss: 0.0887 - accuracy: 0.9730 - val_loss: 1.7500 - val_accuracy: 0.7176\n",
            "Epoch 24/50\n",
            "1250/1250 [==============================] - 16s 12ms/step - loss: 0.1199 - accuracy: 0.9646 - val_loss: 1.4728 - val_accuracy: 0.7233\n",
            "Epoch 25/50\n",
            "1250/1250 [==============================] - 16s 12ms/step - loss: 0.0827 - accuracy: 0.9749 - val_loss: 1.6095 - val_accuracy: 0.7228\n",
            "Epoch 26/50\n",
            "1250/1250 [==============================] - 15s 12ms/step - loss: 0.0889 - accuracy: 0.9744 - val_loss: 1.5825 - val_accuracy: 0.7242\n",
            "Epoch 27/50\n",
            "1250/1250 [==============================] - 15s 12ms/step - loss: 0.0791 - accuracy: 0.9756 - val_loss: 1.7685 - val_accuracy: 0.7323\n",
            "Epoch 28/50\n",
            "1250/1250 [==============================] - 16s 13ms/step - loss: 0.0952 - accuracy: 0.9728 - val_loss: 1.5992 - val_accuracy: 0.7255\n",
            "Epoch 29/50\n",
            "1250/1250 [==============================] - 15s 12ms/step - loss: 0.0792 - accuracy: 0.9762 - val_loss: 1.5753 - val_accuracy: 0.7256\n",
            "Epoch 30/50\n",
            "1250/1250 [==============================] - 15s 12ms/step - loss: 0.0771 - accuracy: 0.9772 - val_loss: 1.6954 - val_accuracy: 0.7226\n",
            "Epoch 31/50\n",
            "1250/1250 [==============================] - 15s 12ms/step - loss: 0.0919 - accuracy: 0.9746 - val_loss: 1.7746 - val_accuracy: 0.7279\n",
            "Epoch 32/50\n",
            "1250/1250 [==============================] - 15s 12ms/step - loss: 0.0688 - accuracy: 0.9804 - val_loss: 1.7302 - val_accuracy: 0.7227\n",
            "Epoch 33/50\n",
            "1250/1250 [==============================] - 15s 12ms/step - loss: 0.0893 - accuracy: 0.9754 - val_loss: 1.6849 - val_accuracy: 0.7093\n",
            "Epoch 34/50\n",
            "1250/1250 [==============================] - 16s 12ms/step - loss: 0.0619 - accuracy: 0.9824 - val_loss: 1.9505 - val_accuracy: 0.7224\n",
            "Epoch 35/50\n",
            "1250/1250 [==============================] - 16s 13ms/step - loss: 0.0733 - accuracy: 0.9796 - val_loss: 1.7247 - val_accuracy: 0.7313\n",
            "Epoch 36/50\n",
            "1250/1250 [==============================] - 15s 12ms/step - loss: 0.0713 - accuracy: 0.9803 - val_loss: 1.6448 - val_accuracy: 0.7300\n",
            "Epoch 37/50\n",
            "1250/1250 [==============================] - 16s 12ms/step - loss: 0.0862 - accuracy: 0.9780 - val_loss: 1.7920 - val_accuracy: 0.7286\n",
            "Epoch 38/50\n",
            "1250/1250 [==============================] - 15s 12ms/step - loss: 0.0542 - accuracy: 0.9847 - val_loss: 1.7957 - val_accuracy: 0.7226\n",
            "Epoch 39/50\n",
            "1250/1250 [==============================] - 15s 12ms/step - loss: 0.0515 - accuracy: 0.9850 - val_loss: 2.0425 - val_accuracy: 0.7157\n",
            "Epoch 40/50\n",
            "1250/1250 [==============================] - 16s 13ms/step - loss: 0.0694 - accuracy: 0.9816 - val_loss: 1.7910 - val_accuracy: 0.7310\n",
            "Epoch 41/50\n",
            "1250/1250 [==============================] - 16s 13ms/step - loss: 0.0570 - accuracy: 0.9840 - val_loss: 1.9027 - val_accuracy: 0.7257\n",
            "Epoch 42/50\n",
            "1250/1250 [==============================] - 15s 12ms/step - loss: 0.0604 - accuracy: 0.9828 - val_loss: 1.9039 - val_accuracy: 0.7315\n",
            "Epoch 43/50\n",
            "1250/1250 [==============================] - 16s 13ms/step - loss: 0.0551 - accuracy: 0.9845 - val_loss: 1.7460 - val_accuracy: 0.7252\n",
            "Epoch 44/50\n",
            "1250/1250 [==============================] - 16s 13ms/step - loss: 0.0416 - accuracy: 0.9883 - val_loss: 2.2517 - val_accuracy: 0.7227\n",
            "Epoch 45/50\n",
            "1250/1250 [==============================] - 15s 12ms/step - loss: 0.0592 - accuracy: 0.9842 - val_loss: 1.9949 - val_accuracy: 0.7281\n",
            "Epoch 46/50\n",
            "1250/1250 [==============================] - 16s 13ms/step - loss: 0.0721 - accuracy: 0.9797 - val_loss: 2.0897 - val_accuracy: 0.7289\n",
            "Epoch 47/50\n",
            "1250/1250 [==============================] - 16s 13ms/step - loss: 0.0612 - accuracy: 0.9844 - val_loss: 2.1171 - val_accuracy: 0.7334\n",
            "Epoch 48/50\n",
            "1250/1250 [==============================] - 16s 13ms/step - loss: 0.0431 - accuracy: 0.9883 - val_loss: 1.7920 - val_accuracy: 0.7279\n",
            "Epoch 49/50\n",
            "1250/1250 [==============================] - 15s 12ms/step - loss: 0.0536 - accuracy: 0.9853 - val_loss: 1.9402 - val_accuracy: 0.7258\n",
            "Epoch 50/50\n",
            "1250/1250 [==============================] - 16s 12ms/step - loss: 0.0484 - accuracy: 0.9872 - val_loss: 1.9631 - val_accuracy: 0.7320\n"
          ]
        }
      ]
    },
    {
      "cell_type": "code",
      "source": [
        "y_prob = model.predict(X_test)\n",
        "y_pred = y_prob.argmax(axis=1)"
      ],
      "metadata": {
        "colab": {
          "base_uri": "https://localhost:8080/"
        },
        "id": "YsthJzpu4GHL",
        "outputId": "1664026c-a6c1-46aa-c93d-6b9f3f2ee162"
      },
      "execution_count": 32,
      "outputs": [
        {
          "output_type": "stream",
          "name": "stdout",
          "text": [
            "313/313 [==============================] - 1s 2ms/step\n"
          ]
        }
      ]
    },
    {
      "cell_type": "code",
      "source": [
        "from sklearn.metrics import accuracy_score\n",
        "accuracy_score(y_test,y_pred)"
      ],
      "metadata": {
        "colab": {
          "base_uri": "https://localhost:8080/"
        },
        "id": "RFIpn9Ff44LS",
        "outputId": "dfb16a71-fa21-4583-fa62-e9ce47e7861a"
      },
      "execution_count": 33,
      "outputs": [
        {
          "output_type": "execute_result",
          "data": {
            "text/plain": [
              "0.498"
            ]
          },
          "metadata": {},
          "execution_count": 33
        }
      ]
    },
    {
      "cell_type": "code",
      "source": [
        "plt.plot(history.history['loss'])\n",
        "plt.plot(history.history['val_loss'])\n",
        "plt.legend()\n",
        "plt.show()"
      ],
      "metadata": {
        "colab": {
          "base_uri": "https://localhost:8080/",
          "height": 468
        },
        "id": "X_kroKJ444v8",
        "outputId": "05d19c56-b2ce-4577-9c7f-20ea3e473223"
      },
      "execution_count": 34,
      "outputs": [
        {
          "output_type": "stream",
          "name": "stderr",
          "text": [
            "WARNING:matplotlib.legend:No artists with labels found to put in legend.  Note that artists whose label start with an underscore are ignored when legend() is called with no argument.\n"
          ]
        },
        {
          "output_type": "display_data",
          "data": {
            "text/plain": [
              "<Figure size 640x480 with 1 Axes>"
            ],
            "image/png": "[encoded data removed]"
          },
          "metadata": {}
        }
      ]
    },
    {
      "cell_type": "code",
      "source": [
        "plt.plot(history.history['accuracy'])\n",
        "plt.plot(history.history['val_accuracy'])"
      ],
      "metadata": {
        "colab": {
          "base_uri": "https://localhost:8080/",
          "height": 448
        },
        "id": "yf4VKP7G5JzJ",
        "outputId": "1b770180-1826-4bd2-a090-3efb9de9bdd4"
      },
      "execution_count": 35,
      "outputs": [
        {
          "output_type": "execute_result",
          "data": {
            "text/plain": [
              "[<matplotlib.lines.Line2D at 0x7e9ed4d00d30>]"
            ]
          },
          "metadata": {},
          "execution_count": 35
        },
        {
          "output_type": "display_data",
          "data": {
            "text/plain": [
              "<Figure size 640x480 with 1 Axes>"
            ],
            "image/png": "[encoded data removed]"
          },
          "metadata": {}
        }
      ]
    },
    {
      "cell_type": "code",
      "source": [],
      "metadata": {
        "id": "P41fi3pd5RHi"
      },
      "execution_count": null,
      "outputs": []
    }
  ]
}
