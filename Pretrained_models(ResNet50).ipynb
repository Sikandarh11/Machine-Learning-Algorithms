{
  "nbformat": 4,
  "nbformat_minor": 0,
  "metadata": {
    "colab": {
      "provenance": [],
      "authorship_tag": "ABX9TyNu0AR7wmDyEAmXtw44kzOR",
      "include_colab_link": true
    },
    "kernelspec": {
      "name": "python3",
      "display_name": "Python 3"
    },
    "language_info": {
      "name": "python"
    }
  },
  "cells": [
    {
      "cell_type": "markdown",
      "metadata": {
        "id": "view-in-github",
        "colab_type": "text"
      },
      "source": [
        "<a href=\"https://colab.research.google.com/github/Sikandarh11/Practice-Machine-Learning-Algorithms/blob/main/Pretrained_models(ResNet50).ipynb\" target=\"_parent\"><img src=\"https://colab.research.google.com/assets/colab-badge.svg\" alt=\"Open In Colab\"/></a>"
      ]
    },
    {
      "cell_type": "code",
      "execution_count": 1,
      "metadata": {
        "id": "yB-Pg8r3U_Le"
      },
      "outputs": [],
      "source": [
        "import keras\n",
        "from keras.applications.resnet50 import ResNet50\n",
        "from keras.applications.resnet50 import preprocess_input, decode_predictions\n",
        "import numpy as np"
      ]
    },
    {
      "cell_type": "code",
      "source": [
        "model = ResNet50(weights='imagenet')"
      ],
      "metadata": {
        "colab": {
          "base_uri": "https://localhost:8080/"
        },
        "id": "UtIT9d0eaOzJ",
        "outputId": "7ff89808-6564-4625-f738-bd0b55d6823b"
      },
      "execution_count": 2,
      "outputs": [
        {
          "output_type": "stream",
          "name": "stdout",
          "text": [
            "Downloading data from https://storage.googleapis.com/tensorflow/keras-applications/resnet/resnet50_weights_tf_dim_ordering_tf_kernels.h5\n",
            "102967424/102967424 [==============================] - 1s 0us/step\n"
          ]
        }
      ]
    },
    {
      "cell_type": "code",
      "source": [
        "cat = '/content/cat.jpeg'\n",
        "\n",
        "cat = keras.utils.load_img(cat, target_size=(224, 224))\n",
        "c = keras.utils.img_to_array(cat)\n",
        "c = np.expand_dims(c, axis=0)\n",
        "c = preprocess_input(c)\n",
        "\n",
        "preds = model.predict(c)\n",
        "\n",
        "# decode the results into a list of tuples (class, description, probability)\n",
        "# (one such list for each sample in the batch)\n",
        "print('Predicted:', decode_predictions(preds, top=3)[0])"
      ],
      "metadata": {
        "colab": {
          "base_uri": "https://localhost:8080/"
        },
        "id": "M1KuCpDaaS6W",
        "outputId": "b777899c-f01b-484d-f5ee-30956d52b040"
      },
      "execution_count": 3,
      "outputs": [
        {
          "output_type": "stream",
          "name": "stdout",
          "text": [
            "1/1 [==============================] - 2s 2s/step\n",
            "Downloading data from https://storage.googleapis.com/download.tensorflow.org/data/imagenet_class_index.json\n",
            "35363/35363 [==============================] - 0s 0us/step\n",
            "Predicted: [('n02123045', 'tabby', 0.4749633), ('n02124075', 'Egyptian_cat', 0.24716863), ('n02123159', 'tiger_cat', 0.21679)]\n"
          ]
        }
      ]
    },
    {
      "cell_type": "code",
      "source": [
        "dog = '/content/dog.jpeg'\n",
        "\n",
        "dog = keras.utils.load_img(dog, target_size=(224, 224))\n",
        "d = keras.utils.img_to_array(dog)\n",
        "d = np.expand_dims(d, axis=0)\n",
        "d = preprocess_input(d)\n",
        "\n",
        "pred_d = model.predict(d)\n",
        "\n",
        "# decode the results into a list of tuples (class, description, probability)\n",
        "# (one such list for each sample in the batch)\n",
        "print('Predicted:', decode_predictions(pred_d, top=3)[0])"
      ],
      "metadata": {
        "colab": {
          "base_uri": "https://localhost:8080/"
        },
        "id": "Wx6j_zNqah6D",
        "outputId": "fabcf895-f166-4443-c556-78b4e8c987b2"
      },
      "execution_count": 6,
      "outputs": [
        {
          "output_type": "stream",
          "name": "stdout",
          "text": [
            "1/1 [==============================] - 0s 342ms/step\n",
            "Predicted: [('n02099712', 'Labrador_retriever', 0.5167107), ('n02099601', 'golden_retriever', 0.4323159), ('n02108551', 'Tibetan_mastiff', 0.008385163)]\n"
          ]
        }
      ]
    },
    {
      "cell_type": "code",
      "source": [],
      "metadata": {
        "id": "sqFYsguJa98a"
      },
      "execution_count": null,
      "outputs": []
    }
  ]
}